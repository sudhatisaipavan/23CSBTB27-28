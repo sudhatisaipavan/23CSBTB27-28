{
  "nbformat": 4,
  "nbformat_minor": 0,
  "metadata": {
    "colab": {
      "provenance": [],
      "include_colab_link": true
    },
    "kernelspec": {
      "name": "python3",
      "display_name": "Python 3"
    },
    "language_info": {
      "name": "python"
    }
  },
  "cells": [
    {
      "cell_type": "markdown",
      "metadata": {
        "id": "view-in-github",
        "colab_type": "text"
      },
      "source": [
        "<a href=\"https://colab.research.google.com/github/sudhatisaipavan/23CSBTB27-28/blob/main/LAB_1.ipynb\" target=\"_parent\"><img src=\"https://colab.research.google.com/assets/colab-badge.svg\" alt=\"Open In Colab\"/></a>"
      ]
    },
    {
      "cell_type": "markdown",
      "source": [
        "part 1- implement basic data Structures using numpy, pandas"
      ],
      "metadata": {
        "id": "gXbMTnDblfhH"
      }
    },
    {
      "cell_type": "code",
      "execution_count": null,
      "metadata": {
        "id": "3UWxSRyAlBBa"
      },
      "outputs": [],
      "source": [
        "import numpy as np\n",
        "import numpy as pd\n"
      ]
    },
    {
      "cell_type": "code",
      "source": [
        "list = [\"Greek\",\"For\",\"Greek\"]\n",
        "list2 = \"my first lab\"\n",
        "list3 = 4.3\n",
        "list4 = 2j+6\n",
        "list5 = 'my first lab'\n",
        "print(type(list2))\n",
        "print(type(list3))\n",
        "print(type(list4))\n",
        "print(type(list5))\n",
        "print(\"/nlist Items: \")\n",
        "print(list)\n",
        "print(type(list))\n",
        "print(list[0])\n",
        "print(list[1])\n"
      ],
      "metadata": {
        "colab": {
          "base_uri": "https://localhost:8080/"
        },
        "id": "pMfJrkPJmQ_z",
        "outputId": "75a1b9b8-e3dc-4701-da8f-ff2ffc51ee1f"
      },
      "execution_count": null,
      "outputs": [
        {
          "output_type": "stream",
          "name": "stdout",
          "text": [
            "<class 'str'>\n",
            "<class 'float'>\n",
            "<class 'complex'>\n",
            "<class 'str'>\n",
            "/nlist Items: \n",
            "['Greek', 'For', 'Greek']\n",
            "<class 'list'>\n",
            "Greek\n",
            "For\n"
          ]
        }
      ]
    },
    {
      "cell_type": "code",
      "source": [],
      "metadata": {
        "id": "vWpfRyFuo6aC"
      },
      "execution_count": null,
      "outputs": []
    },
    {
      "cell_type": "code",
      "source": [
        "import numpy as np\n",
        "list = (1,2,3,4,5)\n",
        "print(list)\n",
        "print(type(list))"
      ],
      "metadata": {
        "colab": {
          "base_uri": "https://localhost:8080/"
        },
        "id": "AqfP-L-ZvUG6",
        "outputId": "5157428f-15ad-436b-e3d6-6f555fb50195"
      },
      "execution_count": null,
      "outputs": [
        {
          "output_type": "stream",
          "name": "stdout",
          "text": [
            "(1, 2, 3, 4, 5)\n",
            "<class 'tuple'>\n"
          ]
        }
      ]
    },
    {
      "cell_type": "code",
      "source": [
        "import numpy as np\n",
        "list = (1, 3, 5, 7, 8)\n",
        "print(list)\n",
        "list1 = (2, 4, 6, 8, 10)\n",
        "print(list1)\n",
        "print(type(list))\n",
        "print(type(list1))"
      ],
      "metadata": {
        "colab": {
          "base_uri": "https://localhost:8080/"
        },
        "id": "Jvegkx2pvzhr",
        "outputId": "8afcd745-148a-4061-9c98-0fb22497895d"
      },
      "execution_count": null,
      "outputs": [
        {
          "output_type": "stream",
          "name": "stdout",
          "text": [
            "(1, 3, 5, 7, 8)\n",
            "(2, 4, 6, 8, 10)\n",
            "<class 'tuple'>\n",
            "<class 'tuple'>\n"
          ]
        }
      ]
    }
  ]
}